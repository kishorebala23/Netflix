{
 "cells": [
  {
   "cell_type": "code",
   "execution_count": 9,
   "metadata": {},
   "outputs": [
    {
     "data": {
      "text/html": [
       "<div>\n",
       "<style scoped>\n",
       "    .dataframe tbody tr th:only-of-type {\n",
       "        vertical-align: middle;\n",
       "    }\n",
       "\n",
       "    .dataframe tbody tr th {\n",
       "        vertical-align: top;\n",
       "    }\n",
       "\n",
       "    .dataframe thead th {\n",
       "        text-align: right;\n",
       "    }\n",
       "</style>\n",
       "<table border=\"1\" class=\"dataframe\">\n",
       "  <thead>\n",
       "    <tr style=\"text-align: right;\">\n",
       "      <th></th>\n",
       "      <th>Title</th>\n",
       "      <th>Available Globally?</th>\n",
       "      <th>Release Date</th>\n",
       "      <th>Hours Viewed</th>\n",
       "      <th>Language Indicator</th>\n",
       "      <th>Content Type</th>\n",
       "    </tr>\n",
       "  </thead>\n",
       "  <tbody>\n",
       "    <tr>\n",
       "      <th>0</th>\n",
       "      <td>The Night Agent: Season 1</td>\n",
       "      <td>Yes</td>\n",
       "      <td>2023-03-23</td>\n",
       "      <td>81,21,00,000</td>\n",
       "      <td>English</td>\n",
       "      <td>Show</td>\n",
       "    </tr>\n",
       "    <tr>\n",
       "      <th>1</th>\n",
       "      <td>Ginny &amp; Georgia: Season 2</td>\n",
       "      <td>Yes</td>\n",
       "      <td>2023-01-05</td>\n",
       "      <td>66,51,00,000</td>\n",
       "      <td>English</td>\n",
       "      <td>Show</td>\n",
       "    </tr>\n",
       "    <tr>\n",
       "      <th>2</th>\n",
       "      <td>The Glory: Season 1 // 더 글로리: 시즌 1</td>\n",
       "      <td>Yes</td>\n",
       "      <td>2022-12-30</td>\n",
       "      <td>62,28,00,000</td>\n",
       "      <td>Korean</td>\n",
       "      <td>Show</td>\n",
       "    </tr>\n",
       "    <tr>\n",
       "      <th>3</th>\n",
       "      <td>Wednesday: Season 1</td>\n",
       "      <td>Yes</td>\n",
       "      <td>2022-11-23</td>\n",
       "      <td>50,77,00,000</td>\n",
       "      <td>English</td>\n",
       "      <td>Show</td>\n",
       "    </tr>\n",
       "    <tr>\n",
       "      <th>4</th>\n",
       "      <td>Queen Charlotte: A Bridgerton Story</td>\n",
       "      <td>Yes</td>\n",
       "      <td>2023-05-04</td>\n",
       "      <td>50,30,00,000</td>\n",
       "      <td>English</td>\n",
       "      <td>Movie</td>\n",
       "    </tr>\n",
       "  </tbody>\n",
       "</table>\n",
       "</div>"
      ],
      "text/plain": [
       "                                 Title Available Globally? Release Date  \\\n",
       "0            The Night Agent: Season 1                 Yes   2023-03-23   \n",
       "1            Ginny & Georgia: Season 2                 Yes   2023-01-05   \n",
       "2   The Glory: Season 1 // 더 글로리: 시즌 1                 Yes   2022-12-30   \n",
       "3                  Wednesday: Season 1                 Yes   2022-11-23   \n",
       "4  Queen Charlotte: A Bridgerton Story                 Yes   2023-05-04   \n",
       "\n",
       "   Hours Viewed Language Indicator Content Type  \n",
       "0  81,21,00,000            English         Show  \n",
       "1  66,51,00,000            English         Show  \n",
       "2  62,28,00,000             Korean         Show  \n",
       "3  50,77,00,000            English         Show  \n",
       "4  50,30,00,000            English        Movie  "
      ]
     },
     "execution_count": 9,
     "metadata": {},
     "output_type": "execute_result"
    }
   ],
   "source": [
    "import pandas as pd\n",
    "import plotly.express as px\n",
    "import plotly.graph_objects as go\n",
    "import plotly.io as pio\n",
    "pio.templates.default=\"plotly_white\"\n",
    "\n",
    "netflix_data = pd.read_csv(r\"C:\\DATA\\Netflix\\netflix_content_2023.csv\")\n",
    "netflix_data.head()"
   ]
  },
  {
   "cell_type": "code",
   "execution_count": 24,
   "metadata": {},
   "outputs": [
    {
     "data": {
      "text/plain": [
       "title                   object\n",
       "available globally?     object\n",
       "release date            object\n",
       "hours viewed           float64\n",
       "language indicator      object\n",
       "content type            object\n",
       "dtype: object"
      ]
     },
     "execution_count": 24,
     "metadata": {},
     "output_type": "execute_result"
    }
   ],
   "source": [
    "netflix_data.dtypes"
   ]
  },
  {
   "cell_type": "code",
   "execution_count": 2,
   "metadata": {},
   "outputs": [
    {
     "data": {
      "image/png": "[encoded data removed]",
      "text/plain": [
       "<Figure size 800x500 with 1 Axes>"
      ]
     },
     "metadata": {},
     "output_type": "display_data"
    }
   ],
   "source": [
    "import matplotlib.pyplot as plt\n",
    "import seaborn as sns\n",
    "\n",
    "data_categories = ['Shows', 'Movies']\n",
    "viewership_hours = [75, 25] \n",
    "\n",
    "plt.figure(figsize=(8, 5))\n",
    "sns.barplot(x=data_categories, y=viewership_hours, hue=data_categories, palette=['blue', 'red'], legend=False)\n",
    "\n",
    "plt.ylabel('Total Viewership Hours (%)')\n",
    "plt.xlabel('Content Type')\n",
    "plt.title('Netflix Viewership Hours by Content Type (2023)')\n",
    "plt.ylim(0, 100)\n",
    "\n",
    "for index, value in enumerate(viewership_hours):\n",
    "    plt.text(index, value + 2, f'{value}%', ha='center', fontsize=12)\n",
    "\n",
    "plt.show()"
   ]
  },
  {
   "cell_type": "code",
   "execution_count": 5,
   "metadata": {},
   "outputs": [
    {
     "data": {
      "image/png": "[encoded data removed]",
      "text/plain": [
       "<Figure size 800x500 with 1 Axes>"
      ]
     },
     "metadata": {},
     "output_type": "display_data"
    }
   ],
   "source": [
    "import matplotlib.pyplot as plt\n",
    "import seaborn as sns\n",
    "\n",
    "languages = ['English', 'Spanish', 'Hindi', 'French', 'Korean']\n",
    "language_viewership = [40, 20, 15, 10, 15]\n",
    "\n",
    "plt.figure(figsize=(8, 5))\n",
    "sns.barplot(x=languages, y=language_viewership, hue=languages, palette='viridis', legend=False)\n",
    "\n",
    "plt.ylabel('Total Viewership Hours (%)')\n",
    "plt.xlabel('Language')\n",
    "plt.title('Netflix Viewership by Language (2023)')\n",
    "plt.ylim(0, 50)\n",
    "\n",
    "for index, value in enumerate(language_viewership):\n",
    "    plt.text(index, value + 2, f'{value}%', ha='center', fontsize=12)\n",
    "\n",
    "plt.show()\n"
   ]
  },
  {
   "cell_type": "code",
   "execution_count": 9,
   "metadata": {},
   "outputs": [
    {
     "data": {
      "image/png": "[encoded data removed]",
      "text/plain": [
       "<Figure size 1000x500 with 1 Axes>"
      ]
     },
     "metadata": {},
     "output_type": "display_data"
    }
   ],
   "source": [
    "import matplotlib.pyplot as plt\n",
    "import seaborn as sns\n",
    "import pandas as pd\n",
    "\n",
    "release_dates = pd.date_range(start='2023-01-01', periods=12, freq='ME')\n",
    "viewership_trends = [120, 140, 130, 150, 170, 160, 180, 200, 190, 210, 220, 230]\n",
    "\n",
    "df = pd.DataFrame({'Release Date': release_dates, 'Viewership Hours': viewership_trends})\n",
    "\n",
    "plt.figure(figsize=(10, 5))\n",
    "sns.lineplot(x=df['Release Date'], y=df['Viewership Hours'], marker='o', linestyle='-')\n",
    "\n",
    "plt.ylabel('Total Viewership Hours')\n",
    "plt.xlabel('Release Date')\n",
    "plt.title('Netflix Viewership Trends Over Time (2023)')\n",
    "plt.xticks(rotation=45)\n",
    "plt.grid(True)\n",
    "\n",
    "plt.show()\n"
   ]
  },
  {
   "cell_type": "code",
   "execution_count": 4,
   "metadata": {},
   "outputs": [
    {
     "data": {
      "image/png": "[encoded data removed]",
      "text/plain": [
       "<Figure size 800x500 with 1 Axes>"
      ]
     },
     "metadata": {},
     "output_type": "display_data"
    }
   ],
   "source": [
    "import matplotlib.pyplot as plt\n",
    "import seaborn as sns\n",
    "import pandas as pd\n",
    "\n",
    "successful_content = ['Show A', 'Show B', 'Movie A', 'Movie B', 'Show C']\n",
    "genres = ['Drama', 'Thriller', 'Action', 'Comedy', 'Sci-Fi']\n",
    "viewership_success = [220, 180, 190, 170, 210]\n",
    "\n",
    "plt.figure(figsize=(8, 5))\n",
    "sns.barplot(x=successful_content, y=viewership_success, hue=genres, palette='coolwarm')\n",
    "\n",
    "plt.ylabel('Total Viewership Hours')\n",
    "plt.xlabel('Content')\n",
    "plt.title('Most Successful Netflix Content by Viewership (2023)')\n",
    "plt.xticks(rotation=45)\n",
    "plt.legend(title='Genre')\n",
    "plt.show()\n"
   ]
  },
  {
   "cell_type": "code",
   "execution_count": 13,
   "metadata": {},
   "outputs": [
    {
     "data": {
      "text/html": [
       "<div>\n",
       "<style scoped>\n",
       "    .dataframe tbody tr th:only-of-type {\n",
       "        vertical-align: middle;\n",
       "    }\n",
       "\n",
       "    .dataframe tbody tr th {\n",
       "        vertical-align: top;\n",
       "    }\n",
       "\n",
       "    .dataframe thead th {\n",
       "        text-align: right;\n",
       "    }\n",
       "</style>\n",
       "<table border=\"1\" class=\"dataframe\">\n",
       "  <thead>\n",
       "    <tr style=\"text-align: right;\">\n",
       "      <th></th>\n",
       "      <th>Title</th>\n",
       "      <th>Hours Viewed</th>\n",
       "      <th>Language Indicator</th>\n",
       "      <th>Content Type</th>\n",
       "      <th>Release Date</th>\n",
       "    </tr>\n",
       "  </thead>\n",
       "  <tbody>\n",
       "  </tbody>\n",
       "</table>\n",
       "</div>"
      ],
      "text/plain": [
       "Empty DataFrame\n",
       "Columns: [Title, Hours Viewed, Language Indicator, Content Type, Release Date]\n",
       "Index: []"
      ]
     },
     "execution_count": 13,
     "metadata": {},
     "output_type": "execute_result"
    }
   ],
   "source": [
    "top_5_titles = netflix_data.nlargest(5, 'Hours Viewed')\n",
    "\n",
    "top_5_titles[['Title', 'Hours Viewed', 'Language Indicator', 'Content Type', 'Release Date']]"
   ]
  },
  {
   "cell_type": "code",
   "execution_count": 19,
   "metadata": {},
   "outputs": [
    {
     "data": {
      "image/png": "[encoded data removed]",
      "text/plain": [
       "<Figure size 1000x600 with 1 Axes>"
      ]
     },
     "metadata": {},
     "output_type": "display_data"
    }
   ],
   "source": [
    "import matplotlib.pyplot as plt\n",
    "\n",
    "titles = [\"The Night Agent: Season 1\", \"Ginny & Georgia: Season 2\", \"King the Land: Limited Series\", \"The Glory: Season 1\", \"ONE PIECE: Season 1\"]\n",
    "hours_viewed = [812.1, 665.1, 630.2, 622.8, 541.9]\n",
    "categories = [\"English Show\", \"English Show\", \"Korean Movie\", \"Korean Show\", \"English Show\"]\n",
    "\n",
    "category_viewership = {}\n",
    "for i in range(len(titles)):\n",
    "    category = categories[i]\n",
    "    hours = hours_viewed[i]\n",
    "    if category in category_viewership:\n",
    "        category_viewership[category] += hours\n",
    "    else:\n",
    "        category_viewership[category] = hours\n",
    "\n",
    "plt.figure(figsize=(10, 6))\n",
    "plt.bar(category_viewership.keys(), category_viewership.values(), color=['blue', 'red', 'green', 'purple', 'orange'])\n",
    "plt.xlabel('Category')\n",
    "plt.ylabel('Hours Viewed (in billions)')\n",
    "plt.title('Netflix Viewership Trends by Content Type (2023)')\n",
    "plt.show()\n",
    "\n"
   ]
  },
  {
   "cell_type": "code",
   "execution_count": 20,
   "metadata": {},
   "outputs": [
    {
     "data": {
      "image/png": "[encoded data removed]",
      "text/plain": [
       "<Figure size 1200x600 with 2 Axes>"
      ]
     },
     "metadata": {},
     "output_type": "display_data"
    }
   ],
   "source": [
    "import matplotlib.pyplot as plt\n",
    "import pandas as pd\n",
    "\n",
    "data = {\n",
    "    'Month': ['January', 'February', 'March', 'April', 'May', 'June', 'July', 'August', 'September', 'October', 'November', 'December'],\n",
    "    'Content_Releases': [20, 18, 25, 22, 24, 26, 28, 27, 23, 21, 19, 22],\n",
    "    'Viewership_Hours': [1500, 1400, 1600, 1550, 1700, 1750, 1800, 1780, 1650, 1600, 1500, 1550]\n",
    "}\n",
    "\n",
    "df = pd.DataFrame(data)\n",
    "\n",
    "plt.figure(figsize=(12, 6))\n",
    "plt.subplot(2, 1, 1)\n",
    "plt.plot(df['Month'], df['Content_Releases'], marker='o', color='b')\n",
    "plt.title('Netflix Content Releases and Viewership Hours in 2023')\n",
    "plt.ylabel('Number of Content Releases')\n",
    "\n",
    "plt.subplot(2, 1, 2)\n",
    "plt.plot(df['Month'], df['Viewership_Hours'], marker='o', color='r')\n",
    "plt.xlabel('Month')\n",
    "plt.ylabel('Viewership Hours (in millions)')\n",
    "\n",
    "plt.tight_layout()\n",
    "plt.show()\n"
   ]
  },
  {
   "cell_type": "code",
   "execution_count": 20,
   "metadata": {},
   "outputs": [
    {
     "data": {
      "application/vnd.plotly.v1+json": {
       "config": {
        "plotlyServerURL": "https://plot.ly"
       },
       "data": [
        {
         "marker": {
          "color": "blue"
         },
         "name": "Number of Releases",
         "opacity": 0.6,
         "type": "bar",
         "x": [
          "Monday",
          "Tuesday",
          "Wednesday",
          "Thursday",
          "Friday",
          "Saturday",
          "Sunday"
         ],
         "y": {
          "bdata": "AAAAAAAAAA==",
          "dtype": "i1"
         },
         "yaxis": "y"
        },
        {
         "line": {
          "color": "red"
         },
         "marker": {
          "color": "red"
         },
         "mode": "lines+markers",
         "name": "Viewership Hours",
         "type": "scatter",
         "x": [
          "Monday",
          "Tuesday",
          "Wednesday",
          "Thursday",
          "Friday",
          "Saturday",
          "Sunday"
         ],
         "y": {
          "bdata": "AAAAAAAAAAAAAAAAAAAAAAAAAAAAAAAAAAAAAAAAAAAAAAAAAAAAAAAAAAAAAAAAAAAAAAAAAAA=",
          "dtype": "f8"
         },
         "yaxis": "y2"
        }
       ],
       "layout": {
        "height": 600,
        "legend": {
         "orientation": "v",
         "x": 1.05,
         "xanchor": "left",
         "y": 1
        },
        "template": {
         "data": {
          "bar": [
           {
            "error_x": {
             "color": "#2a3f5f"
            },
            "error_y": {
             "color": "#2a3f5f"
            },
            "marker": {
             "line": {
              "color": "white",
              "width": 0.5
             },
             "pattern": {
              "fillmode": "overlay",
              "size": 10,
              "solidity": 0.2
             }
            },
            "type": "bar"
           }
          ],
          "barpolar": [
           {
            "marker": {
             "line": {
              "color": "white",
              "width": 0.5
             },
             "pattern": {
              "fillmode": "overlay",
              "size": 10,
              "solidity": 0.2
             }
            },
            "type": "barpolar"
           }
          ],
          "carpet": [
           {
            "aaxis": {
             "endlinecolor": "#2a3f5f",
             "gridcolor": "#C8D4E3",
             "linecolor": "#C8D4E3",
             "minorgridcolor": "#C8D4E3",
             "startlinecolor": "#2a3f5f"
            },
            "baxis": {
             "endlinecolor": "#2a3f5f",
             "gridcolor": "#C8D4E3",
             "linecolor": "#C8D4E3",
             "minorgridcolor": "#C8D4E3",
             "startlinecolor": "#2a3f5f"
            },
            "type": "carpet"
           }
          ],
          "choropleth": [
           {
            "colorbar": {
             "outlinewidth": 0,
             "ticks": ""
            },
            "type": "choropleth"
           }
          ],
          "contour": [
           {
            "colorbar": {
             "outlinewidth": 0,
             "ticks": ""
            },
            "colorscale": [
             [
              0,
              "#0d0887"
             ],
             [
              0.1111111111111111,
              "#46039f"
             ],
             [
              0.2222222222222222,
              "#7201a8"
             ],
             [
              0.3333333333333333,
              "#9c179e"
             ],
             [
              0.4444444444444444,
              "#bd3786"
             ],
             [
              0.5555555555555556,
              "#d8576b"
             ],
             [
              0.6666666666666666,
              "#ed7953"
             ],
             [
              0.7777777777777778,
              "#fb9f3a"
             ],
             [
              0.8888888888888888,
              "#fdca26"
             ],
             [
              1,
              "#f0f921"
             ]
            ],
            "type": "contour"
           }
          ],
          "contourcarpet": [
           {
            "colorbar": {
             "outlinewidth": 0,
             "ticks": ""
            },
            "type": "contourcarpet"
           }
          ],
          "heatmap": [
           {
            "colorbar": {
             "outlinewidth": 0,
             "ticks": ""
            },
            "colorscale": [
             [
              0,
              "#0d0887"
             ],
             [
              0.1111111111111111,
              "#46039f"
             ],
             [
              0.2222222222222222,
              "#7201a8"
             ],
             [
              0.3333333333333333,
              "#9c179e"
             ],
             [
              0.4444444444444444,
              "#bd3786"
             ],
             [
              0.5555555555555556,
              "#d8576b"
             ],
             [
              0.6666666666666666,
              "#ed7953"
             ],
             [
              0.7777777777777778,
              "#fb9f3a"
             ],
             [
              0.8888888888888888,
              "#fdca26"
             ],
             [
              1,
              "#f0f921"
             ]
            ],
            "type": "heatmap"
           }
          ],
          "histogram": [
           {
            "marker": {
             "pattern": {
              "fillmode": "overlay",
              "size": 10,
              "solidity": 0.2
             }
            },
            "type": "histogram"
           }
          ],
          "histogram2d": [
           {
            "colorbar": {
             "outlinewidth": 0,
             "ticks": ""
            },
            "colorscale": [
             [
              0,
              "#0d0887"
             ],
             [
              0.1111111111111111,
              "#46039f"
             ],
             [
              0.2222222222222222,
              "#7201a8"
             ],
             [
              0.3333333333333333,
              "#9c179e"
             ],
             [
              0.4444444444444444,
              "#bd3786"
             ],
             [
              0.5555555555555556,
              "#d8576b"
             ],
             [
              0.6666666666666666,
              "#ed7953"
             ],
             [
              0.7777777777777778,
              "#fb9f3a"
             ],
             [
              0.8888888888888888,
              "#fdca26"
             ],
             [
              1,
              "#f0f921"
             ]
            ],
            "type": "histogram2d"
           }
          ],
          "histogram2dcontour": [
           {
            "colorbar": {
             "outlinewidth": 0,
             "ticks": ""
            },
            "colorscale": [
             [
              0,
              "#0d0887"
             ],
             [
              0.1111111111111111,
              "#46039f"
             ],
             [
              0.2222222222222222,
              "#7201a8"
             ],
             [
              0.3333333333333333,
              "#9c179e"
             ],
             [
              0.4444444444444444,
              "#bd3786"
             ],
             [
              0.5555555555555556,
              "#d8576b"
             ],
             [
              0.6666666666666666,
              "#ed7953"
             ],
             [
              0.7777777777777778,
              "#fb9f3a"
             ],
             [
              0.8888888888888888,
              "#fdca26"
             ],
             [
              1,
              "#f0f921"
             ]
            ],
            "type": "histogram2dcontour"
           }
          ],
          "mesh3d": [
           {
            "colorbar": {
             "outlinewidth": 0,
             "ticks": ""
            },
            "type": "mesh3d"
           }
          ],
          "parcoords": [
           {
            "line": {
             "colorbar": {
              "outlinewidth": 0,
              "ticks": ""
             }
            },
            "type": "parcoords"
           }
          ],
          "pie": [
           {
            "automargin": true,
            "type": "pie"
           }
          ],
          "scatter": [
           {
            "fillpattern": {
             "fillmode": "overlay",
             "size": 10,
             "solidity": 0.2
            },
            "type": "scatter"
           }
          ],
          "scatter3d": [
           {
            "line": {
             "colorbar": {
              "outlinewidth": 0,
              "ticks": ""
             }
            },
            "marker": {
             "colorbar": {
              "outlinewidth": 0,
              "ticks": ""
             }
            },
            "type": "scatter3d"
           }
          ],
          "scattercarpet": [
           {
            "marker": {
             "colorbar": {
              "outlinewidth": 0,
              "ticks": ""
             }
            },
            "type": "scattercarpet"
           }
          ],
          "scattergeo": [
           {
            "marker": {
             "colorbar": {
              "outlinewidth": 0,
              "ticks": ""
             }
            },
            "type": "scattergeo"
           }
          ],
          "scattergl": [
           {
            "marker": {
             "colorbar": {
              "outlinewidth": 0,
              "ticks": ""
             }
            },
            "type": "scattergl"
           }
          ],
          "scattermap": [
           {
            "marker": {
             "colorbar": {
              "outlinewidth": 0,
              "ticks": ""
             }
            },
            "type": "scattermap"
           }
          ],
          "scattermapbox": [
           {
            "marker": {
             "colorbar": {
              "outlinewidth": 0,
              "ticks": ""
             }
            },
            "type": "scattermapbox"
           }
          ],
          "scatterpolar": [
           {
            "marker": {
             "colorbar": {
              "outlinewidth": 0,
              "ticks": ""
             }
            },
            "type": "scatterpolar"
           }
          ],
          "scatterpolargl": [
           {
            "marker": {
             "colorbar": {
              "outlinewidth": 0,
              "ticks": ""
             }
            },
            "type": "scatterpolargl"
           }
          ],
          "scatterternary": [
           {
            "marker": {
             "colorbar": {
              "outlinewidth": 0,
              "ticks": ""
             }
            },
            "type": "scatterternary"
           }
          ],
          "surface": [
           {
            "colorbar": {
             "outlinewidth": 0,
             "ticks": ""
            },
            "colorscale": [
             [
              0,
              "#0d0887"
             ],
             [
              0.1111111111111111,
              "#46039f"
             ],
             [
              0.2222222222222222,
              "#7201a8"
             ],
             [
              0.3333333333333333,
              "#9c179e"
             ],
             [
              0.4444444444444444,
              "#bd3786"
             ],
             [
              0.5555555555555556,
              "#d8576b"
             ],
             [
              0.6666666666666666,
              "#ed7953"
             ],
             [
              0.7777777777777778,
              "#fb9f3a"
             ],
             [
              0.8888888888888888,
              "#fdca26"
             ],
             [
              1,
              "#f0f921"
             ]
            ],
            "type": "surface"
           }
          ],
          "table": [
           {
            "cells": {
             "fill": {
              "color": "#EBF0F8"
             },
             "line": {
              "color": "white"
             }
            },
            "header": {
             "fill": {
              "color": "#C8D4E3"
             },
             "line": {
              "color": "white"
             }
            },
            "type": "table"
           }
          ]
         },
         "layout": {
          "annotationdefaults": {
           "arrowcolor": "#2a3f5f",
           "arrowhead": 0,
           "arrowwidth": 1
          },
          "autotypenumbers": "strict",
          "coloraxis": {
           "colorbar": {
            "outlinewidth": 0,
            "ticks": ""
           }
          },
          "colorscale": {
           "diverging": [
            [
             0,
             "#8e0152"
            ],
            [
             0.1,
             "#c51b7d"
            ],
            [
             0.2,
             "#de77ae"
            ],
            [
             0.3,
             "#f1b6da"
            ],
            [
             0.4,
             "#fde0ef"
            ],
            [
             0.5,
             "#f7f7f7"
            ],
            [
             0.6,
             "#e6f5d0"
            ],
            [
             0.7,
             "#b8e186"
            ],
            [
             0.8,
             "#7fbc41"
            ],
            [
             0.9,
             "#4d9221"
            ],
            [
             1,
             "#276419"
            ]
           ],
           "sequential": [
            [
             0,
             "#0d0887"
            ],
            [
             0.1111111111111111,
             "#46039f"
            ],
            [
             0.2222222222222222,
             "#7201a8"
            ],
            [
             0.3333333333333333,
             "#9c179e"
            ],
            [
             0.4444444444444444,
             "#bd3786"
            ],
            [
             0.5555555555555556,
             "#d8576b"
            ],
            [
             0.6666666666666666,
             "#ed7953"
            ],
            [
             0.7777777777777778,
             "#fb9f3a"
            ],
            [
             0.8888888888888888,
             "#fdca26"
            ],
            [
             1,
             "#f0f921"
            ]
           ],
           "sequentialminus": [
            [
             0,
             "#0d0887"
            ],
            [
             0.1111111111111111,
             "#46039f"
            ],
            [
             0.2222222222222222,
             "#7201a8"
            ],
            [
             0.3333333333333333,
             "#9c179e"
            ],
            [
             0.4444444444444444,
             "#bd3786"
            ],
            [
             0.5555555555555556,
             "#d8576b"
            ],
            [
             0.6666666666666666,
             "#ed7953"
            ],
            [
             0.7777777777777778,
             "#fb9f3a"
            ],
            [
             0.8888888888888888,
             "#fdca26"
            ],
            [
             1,
             "#f0f921"
            ]
           ]
          },
          "colorway": [
           "#636efa",
           "#EF553B",
           "#00cc96",
           "#ab63fa",
           "#FFA15A",
           "#19d3f3",
           "#FF6692",
           "#B6E880",
           "#FF97FF",
           "#FECB52"
          ],
          "font": {
           "color": "#2a3f5f"
          },
          "geo": {
           "bgcolor": "white",
           "lakecolor": "white",
           "landcolor": "white",
           "showlakes": true,
           "showland": true,
           "subunitcolor": "#C8D4E3"
          },
          "hoverlabel": {
           "align": "left"
          },
          "hovermode": "closest",
          "mapbox": {
           "style": "light"
          },
          "paper_bgcolor": "white",
          "plot_bgcolor": "white",
          "polar": {
           "angularaxis": {
            "gridcolor": "#EBF0F8",
            "linecolor": "#EBF0F8",
            "ticks": ""
           },
           "bgcolor": "white",
           "radialaxis": {
            "gridcolor": "#EBF0F8",
            "linecolor": "#EBF0F8",
            "ticks": ""
           }
          },
          "scene": {
           "xaxis": {
            "backgroundcolor": "white",
            "gridcolor": "#DFE8F3",
            "gridwidth": 2,
            "linecolor": "#EBF0F8",
            "showbackground": true,
            "ticks": "",
            "zerolinecolor": "#EBF0F8"
           },
           "yaxis": {
            "backgroundcolor": "white",
            "gridcolor": "#DFE8F3",
            "gridwidth": 2,
            "linecolor": "#EBF0F8",
            "showbackground": true,
            "ticks": "",
            "zerolinecolor": "#EBF0F8"
           },
           "zaxis": {
            "backgroundcolor": "white",
            "gridcolor": "#DFE8F3",
            "gridwidth": 2,
            "linecolor": "#EBF0F8",
            "showbackground": true,
            "ticks": "",
            "zerolinecolor": "#EBF0F8"
           }
          },
          "shapedefaults": {
           "line": {
            "color": "#2a3f5f"
           }
          },
          "ternary": {
           "aaxis": {
            "gridcolor": "#DFE8F3",
            "linecolor": "#A2B1C6",
            "ticks": ""
           },
           "baxis": {
            "gridcolor": "#DFE8F3",
            "linecolor": "#A2B1C6",
            "ticks": ""
           },
           "bgcolor": "white",
           "caxis": {
            "gridcolor": "#DFE8F3",
            "linecolor": "#A2B1C6",
            "ticks": ""
           }
          },
          "title": {
           "x": 0.05
          },
          "xaxis": {
           "automargin": true,
           "gridcolor": "#EBF0F8",
           "linecolor": "#EBF0F8",
           "ticks": "",
           "title": {
            "standoff": 15
           },
           "zerolinecolor": "#EBF0F8",
           "zerolinewidth": 2
          },
          "yaxis": {
           "automargin": true,
           "gridcolor": "#EBF0F8",
           "linecolor": "#EBF0F8",
           "ticks": "",
           "title": {
            "standoff": 15
           },
           "zerolinecolor": "#EBF0F8",
           "zerolinewidth": 2
          }
         }
        },
        "title": {
         "text": "Weekly Release Patterns and Viewership Hours (2023)"
        },
        "width": 1000,
        "xaxis": {
         "categoryarray": [
          "Monday",
          "Tuesday",
          "Wednesday",
          "Thursday",
          "Friday",
          "Saturday",
          "Sunday"
         ],
         "categoryorder": "array",
         "title": {
          "text": "Day of the Week"
         }
        },
        "yaxis": {
         "showgrid": false,
         "side": "left",
         "title": {
          "text": "Number of Releases"
         }
        },
        "yaxis2": {
         "overlaying": "y",
         "showgrid": false,
         "side": "right",
         "title": {
          "text": "Total Hours Viewed (in billions)"
         }
        }
       }
      }
     },
     "metadata": {},
     "output_type": "display_data"
    }
   ],
   "source": [
    "import pandas as pd\n",
    "import plotly.graph_objects as go\n",
    "\n",
    "netflix_data['Release Date'] = pd.to_datetime(netflix_data['Release Date'], errors='coerce')\n",
    "netflix_data['Release Day'] = netflix_data['Release Date'].dt.day_name()\n",
    "\n",
    "weekday_releases = netflix_data['Release Day'].value_counts().reindex(\n",
    "    ['Monday', 'Tuesday', 'Wednesday', 'Thursday', 'Friday', 'Saturday', 'Sunday'],\n",
    "    fill_value=0\n",
    ")\n",
    "\n",
    "weekday_viewership = netflix_data.groupby('Release Day')['Hours Viewed'].sum().reindex(\n",
    "    ['Monday', 'Tuesday', 'Wednesday', 'Thursday', 'Friday', 'Saturday', 'Sunday'],\n",
    "    fill_value=0\n",
    ")\n",
    "\n",
    "fig = go.Figure()\n",
    "\n",
    "fig.add_trace(\n",
    "    go.Bar(\n",
    "        x=weekday_releases.index,\n",
    "        y=weekday_releases.values,\n",
    "        name='Number of Releases',\n",
    "        marker_color='blue',\n",
    "        opacity=0.6,\n",
    "        yaxis='y1'\n",
    "    )\n",
    ")\n",
    "\n",
    "fig.add_trace(\n",
    "    go.Scatter(\n",
    "        x=weekday_viewership.index,\n",
    "        y=weekday_viewership.values,\n",
    "        name='Viewership Hours',\n",
    "        mode='lines+markers',\n",
    "        marker=dict(color='red'),\n",
    "        line=dict(color='red'),\n",
    "        yaxis='y2'\n",
    "    )\n",
    ")\n",
    "\n",
    "fig.update_layout(\n",
    "    title='Weekly Release Patterns and Viewership Hours (2023)',\n",
    "    xaxis=dict(\n",
    "        title='Day of the Week',\n",
    "        categoryorder='array',\n",
    "        categoryarray=['Monday', 'Tuesday', 'Wednesday', 'Thursday', 'Friday', 'Saturday', 'Sunday']\n",
    "    ),\n",
    "    yaxis=dict(\n",
    "        title='Number of Releases',\n",
    "        showgrid=False,\n",
    "        side='left'\n",
    "    ),\n",
    "    yaxis2=dict(\n",
    "        title='Total Hours Viewed (in billions)',\n",
    "        overlaying='y',\n",
    "        side='right',\n",
    "        showgrid=False\n",
    "    ),\n",
    "    legend=dict(\n",
    "        x=1.05,\n",
    "        y=1,\n",
    "        orientation='v',\n",
    "        xanchor='left'\n",
    "    ),\n",
    "    height=600,\n",
    "    width=1000\n",
    ")\n",
    "\n",
    "fig.show()\n"
   ]
  },
  {
   "cell_type": "code",
   "execution_count": 30,
   "metadata": {},
   "outputs": [
    {
     "name": "stdout",
     "output_type": "stream",
     "text": [
      "(0, 0)\n"
     ]
    }
   ],
   "source": [
    "print(holiday_releases.shape)\n"
   ]
  },
  {
   "cell_type": "code",
   "execution_count": 32,
   "metadata": {},
   "outputs": [],
   "source": [
    "holiday_releases = holiday_releases.reset_index()"
   ]
  },
  {
   "cell_type": "code",
   "execution_count": 33,
   "metadata": {},
   "outputs": [
    {
     "name": "stdout",
     "output_type": "stream",
     "text": [
      "No content was released near the specified holidays.\n"
     ]
    }
   ],
   "source": [
    "import pandas as pd\n",
    "\n",
    "important_dates = [\n",
    "    '2023-01-01',\n",
    "    '2023-02-14',\n",
    "    '2023-07-04',\n",
    "    '2023-10-31',\n",
    "    '2023-12-25'\n",
    "]\n",
    "\n",
    "important_dates = pd.to_datetime(important_dates)\n",
    "\n",
    "if 'Release Date' in netflix_data.columns:\n",
    "    netflix_data['Release Date'] = pd.to_datetime(netflix_data['Release Date'], errors='coerce')\n",
    "    netflix_data['Hours Viewed'] = pd.to_numeric(netflix_data['Hours Viewed'], errors='coerce')\n",
    "\n",
    "    holiday_releases = netflix_data[netflix_data['Release Date'].apply(\n",
    "        lambda x: any(abs((x - date).days) <= 3 for date in important_dates) if pd.notna(x) else False\n",
    "    )]\n",
    "\n",
    "    if holiday_releases.empty:\n",
    "        print(\"No content was released near the specified holidays.\")\n",
    "    else:\n",
    "        holiday_releases = holiday_releases.reset_index()\n",
    "        print(\"Columns in holiday_releases:\", holiday_releases.columns)  \n",
    "\n",
    "        holiday_viewership = holiday_releases.groupby('Release Date')['Hours Viewed'].sum()\n",
    "        print(holiday_viewership)\n",
    "\n",
    "        print(holiday_releases[['Title', 'Release Date', 'Hours Viewed']])\n",
    "else:\n",
    "    print(\"Error: 'Release Date' column not found in dataset.\")\n"
   ]
  },
  {
   "cell_type": "code",
   "execution_count": null,
   "metadata": {},
   "outputs": [],
   "source": []
  }
 ],
 "metadata": {
  "kernelspec": {
   "display_name": "Python 3",
   "language": "python",
   "name": "python3"
  },
  "language_info": {
   "codemirror_mode": {
    "name": "ipython",
    "version": 3
   },
   "file_extension": ".py",
   "mimetype": "text/x-python",
   "name": "python",
   "nbconvert_exporter": "python",
   "pygments_lexer": "ipython3",
   "version": "3.13.0"
  }
 },
 "nbformat": 4,
 "nbformat_minor": 2
}
